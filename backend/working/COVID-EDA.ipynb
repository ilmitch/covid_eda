{
 "cells": [
  {
   "cell_type": "code",
   "execution_count": 1,
   "metadata": {},
   "outputs": [],
   "source": [
    "import datetime as dt\n",
    "\n",
    "import numpy as np\n",
    "import pandas as pd\n",
    "\n",
    "import matplotlib.pyplot as plt\n",
    "%matplotlib inline\n",
    "%config InlineBackend.figure_format = 'retina'"
   ]
  },
  {
   "cell_type": "code",
   "execution_count": 2,
   "metadata": {},
   "outputs": [],
   "source": [
    "idx = pd.IndexSlice"
   ]
  },
  {
   "cell_type": "markdown",
   "metadata": {},
   "source": [
    "https://www.ecdc.europa.eu/en/publications-data/download-todays-data-geographic-distribution-covid-19-cases-worldwide"
   ]
  },
  {
   "cell_type": "markdown",
   "metadata": {},
   "source": [
    "# Description"
   ]
  },
  {
   "cell_type": "markdown",
   "metadata": {},
   "source": [
    "# Content"
   ]
  },
  {
   "cell_type": "raw",
   "metadata": {},
   "source": [
    "1. Input Data\n",
    "2. DataFrame Preparation\n"
   ]
  },
  {
   "cell_type": "markdown",
   "metadata": {},
   "source": [
    "# 1. Input Data"
   ]
  },
  {
   "cell_type": "code",
   "execution_count": 3,
   "metadata": {},
   "outputs": [],
   "source": [
    "filename_path = '_input/01_ecdc/COVID-19-geographic-disbtribution-worldwide-2020-03-14_1.xls'"
   ]
  },
  {
   "cell_type": "markdown",
   "metadata": {},
   "source": [
    "# 2. COVID DataFrame Preparation, df"
   ]
  },
  {
   "cell_type": "code",
   "execution_count": 4,
   "metadata": {},
   "outputs": [
    {
     "data": {
      "text/html": [
       "<div>\n",
       "<style scoped>\n",
       "    .dataframe tbody tr th:only-of-type {\n",
       "        vertical-align: middle;\n",
       "    }\n",
       "\n",
       "    .dataframe tbody tr th {\n",
       "        vertical-align: top;\n",
       "    }\n",
       "\n",
       "    .dataframe thead th {\n",
       "        text-align: right;\n",
       "    }\n",
       "</style>\n",
       "<table border=\"1\" class=\"dataframe\">\n",
       "  <thead>\n",
       "    <tr style=\"text-align: right;\">\n",
       "      <th></th>\n",
       "      <th>CountryExp</th>\n",
       "      <th>NewConfCases</th>\n",
       "      <th>NewDeaths</th>\n",
       "      <th>GeoId</th>\n",
       "      <th>Gaul1Nuts1</th>\n",
       "      <th>EU</th>\n",
       "    </tr>\n",
       "    <tr>\n",
       "      <th>Date</th>\n",
       "      <th></th>\n",
       "      <th></th>\n",
       "      <th></th>\n",
       "      <th></th>\n",
       "      <th></th>\n",
       "      <th></th>\n",
       "    </tr>\n",
       "  </thead>\n",
       "  <tbody>\n",
       "    <tr>\n",
       "      <td>2020-03-11</td>\n",
       "      <td>Afghanistan</td>\n",
       "      <td>3</td>\n",
       "      <td>0</td>\n",
       "      <td>AF</td>\n",
       "      <td>NaN</td>\n",
       "      <td>Non-EU/EEA</td>\n",
       "    </tr>\n",
       "    <tr>\n",
       "      <td>2020-03-08</td>\n",
       "      <td>Afghanistan</td>\n",
       "      <td>3</td>\n",
       "      <td>0</td>\n",
       "      <td>AF</td>\n",
       "      <td>NaN</td>\n",
       "      <td>Non-EU/EEA</td>\n",
       "    </tr>\n",
       "    <tr>\n",
       "      <td>2020-03-02</td>\n",
       "      <td>Afghanistan</td>\n",
       "      <td>0</td>\n",
       "      <td>0</td>\n",
       "      <td>AF</td>\n",
       "      <td>NaN</td>\n",
       "      <td>Non-EU/EEA</td>\n",
       "    </tr>\n",
       "    <tr>\n",
       "      <td>2020-03-01</td>\n",
       "      <td>Afghanistan</td>\n",
       "      <td>0</td>\n",
       "      <td>0</td>\n",
       "      <td>AF</td>\n",
       "      <td>NaN</td>\n",
       "      <td>Non-EU/EEA</td>\n",
       "    </tr>\n",
       "    <tr>\n",
       "      <td>2020-02-29</td>\n",
       "      <td>Afghanistan</td>\n",
       "      <td>0</td>\n",
       "      <td>0</td>\n",
       "      <td>AF</td>\n",
       "      <td>NaN</td>\n",
       "      <td>Non-EU/EEA</td>\n",
       "    </tr>\n",
       "  </tbody>\n",
       "</table>\n",
       "</div>"
      ],
      "text/plain": [
       "             CountryExp  NewConfCases  NewDeaths GeoId Gaul1Nuts1          EU\n",
       "Date                                                                         \n",
       "2020-03-11  Afghanistan             3          0    AF        NaN  Non-EU/EEA\n",
       "2020-03-08  Afghanistan             3          0    AF        NaN  Non-EU/EEA\n",
       "2020-03-02  Afghanistan             0          0    AF        NaN  Non-EU/EEA\n",
       "2020-03-01  Afghanistan             0          0    AF        NaN  Non-EU/EEA\n",
       "2020-02-29  Afghanistan             0          0    AF        NaN  Non-EU/EEA"
      ]
     },
     "execution_count": 4,
     "metadata": {},
     "output_type": "execute_result"
    }
   ],
   "source": [
    "df = pd.read_excel(filename_path, index_col='DateRep', parse_dates=True)\n",
    "df.rename_axis('Date', inplace=True)\n",
    "df.head()"
   ]
  },
  {
   "cell_type": "code",
   "execution_count": 5,
   "metadata": {},
   "outputs": [
    {
     "data": {
      "text/html": [
       "<div>\n",
       "<style scoped>\n",
       "    .dataframe tbody tr th:only-of-type {\n",
       "        vertical-align: middle;\n",
       "    }\n",
       "\n",
       "    .dataframe tbody tr th {\n",
       "        vertical-align: top;\n",
       "    }\n",
       "\n",
       "    .dataframe thead th {\n",
       "        text-align: right;\n",
       "    }\n",
       "</style>\n",
       "<table border=\"1\" class=\"dataframe\">\n",
       "  <thead>\n",
       "    <tr style=\"text-align: right;\">\n",
       "      <th></th>\n",
       "      <th>CountryExp</th>\n",
       "      <th>NewConfCases</th>\n",
       "      <th>NewDeaths</th>\n",
       "      <th>GeoId</th>\n",
       "      <th>Gaul1Nuts1</th>\n",
       "      <th>EU</th>\n",
       "    </tr>\n",
       "    <tr>\n",
       "      <th>Date</th>\n",
       "      <th></th>\n",
       "      <th></th>\n",
       "      <th></th>\n",
       "      <th></th>\n",
       "      <th></th>\n",
       "      <th></th>\n",
       "    </tr>\n",
       "  </thead>\n",
       "  <tbody>\n",
       "    <tr>\n",
       "      <td>2020-01-04</td>\n",
       "      <td>Vietnam</td>\n",
       "      <td>0</td>\n",
       "      <td>0</td>\n",
       "      <td>VN</td>\n",
       "      <td>NaN</td>\n",
       "      <td>Non-EU/EEA</td>\n",
       "    </tr>\n",
       "    <tr>\n",
       "      <td>2020-01-03</td>\n",
       "      <td>Vietnam</td>\n",
       "      <td>0</td>\n",
       "      <td>0</td>\n",
       "      <td>VN</td>\n",
       "      <td>NaN</td>\n",
       "      <td>Non-EU/EEA</td>\n",
       "    </tr>\n",
       "    <tr>\n",
       "      <td>2020-01-02</td>\n",
       "      <td>Vietnam</td>\n",
       "      <td>0</td>\n",
       "      <td>0</td>\n",
       "      <td>VN</td>\n",
       "      <td>NaN</td>\n",
       "      <td>Non-EU/EEA</td>\n",
       "    </tr>\n",
       "    <tr>\n",
       "      <td>2020-01-01</td>\n",
       "      <td>Vietnam</td>\n",
       "      <td>0</td>\n",
       "      <td>0</td>\n",
       "      <td>VN</td>\n",
       "      <td>NaN</td>\n",
       "      <td>Non-EU/EEA</td>\n",
       "    </tr>\n",
       "    <tr>\n",
       "      <td>2019-12-31</td>\n",
       "      <td>Vietnam</td>\n",
       "      <td>0</td>\n",
       "      <td>0</td>\n",
       "      <td>VN</td>\n",
       "      <td>NaN</td>\n",
       "      <td>Non-EU/EEA</td>\n",
       "    </tr>\n",
       "  </tbody>\n",
       "</table>\n",
       "</div>"
      ],
      "text/plain": [
       "           CountryExp  NewConfCases  NewDeaths GeoId Gaul1Nuts1          EU\n",
       "Date                                                                       \n",
       "2020-01-04    Vietnam             0          0    VN        NaN  Non-EU/EEA\n",
       "2020-01-03    Vietnam             0          0    VN        NaN  Non-EU/EEA\n",
       "2020-01-02    Vietnam             0          0    VN        NaN  Non-EU/EEA\n",
       "2020-01-01    Vietnam             0          0    VN        NaN  Non-EU/EEA\n",
       "2019-12-31    Vietnam             0          0    VN        NaN  Non-EU/EEA"
      ]
     },
     "execution_count": 5,
     "metadata": {},
     "output_type": "execute_result"
    }
   ],
   "source": [
    "df.tail()"
   ]
  },
  {
   "cell_type": "code",
   "execution_count": 6,
   "metadata": {},
   "outputs": [
    {
     "name": "stdout",
     "output_type": "stream",
     "text": [
      "<class 'pandas.core.frame.DataFrame'>\n",
      "DatetimeIndex: 5001 entries, 2020-03-11 to 2019-12-31\n",
      "Data columns (total 6 columns):\n",
      "CountryExp      5001 non-null object\n",
      "NewConfCases    5001 non-null int64\n",
      "NewDeaths       5001 non-null int64\n",
      "GeoId           5001 non-null object\n",
      "Gaul1Nuts1      492 non-null object\n",
      "EU              5001 non-null object\n",
      "dtypes: int64(2), object(4)\n",
      "memory usage: 273.5+ KB\n"
     ]
    }
   ],
   "source": [
    "df.info()"
   ]
  },
  {
   "cell_type": "code",
   "execution_count": 7,
   "metadata": {},
   "outputs": [
    {
     "data": {
      "text/html": [
       "<div>\n",
       "<style scoped>\n",
       "    .dataframe tbody tr th:only-of-type {\n",
       "        vertical-align: middle;\n",
       "    }\n",
       "\n",
       "    .dataframe tbody tr th {\n",
       "        vertical-align: top;\n",
       "    }\n",
       "\n",
       "    .dataframe thead th {\n",
       "        text-align: right;\n",
       "    }\n",
       "</style>\n",
       "<table border=\"1\" class=\"dataframe\">\n",
       "  <thead>\n",
       "    <tr style=\"text-align: right;\">\n",
       "      <th></th>\n",
       "      <th>NewConfCases</th>\n",
       "      <th>NewDeaths</th>\n",
       "    </tr>\n",
       "  </thead>\n",
       "  <tbody>\n",
       "    <tr>\n",
       "      <td>count</td>\n",
       "      <td>5001.000000</td>\n",
       "      <td>5001.000000</td>\n",
       "    </tr>\n",
       "    <tr>\n",
       "      <td>mean</td>\n",
       "      <td>28.643671</td>\n",
       "      <td>1.081184</td>\n",
       "    </tr>\n",
       "    <tr>\n",
       "      <td>std</td>\n",
       "      <td>295.890373</td>\n",
       "      <td>10.413962</td>\n",
       "    </tr>\n",
       "    <tr>\n",
       "      <td>min</td>\n",
       "      <td>-9.000000</td>\n",
       "      <td>0.000000</td>\n",
       "    </tr>\n",
       "    <tr>\n",
       "      <td>25%</td>\n",
       "      <td>0.000000</td>\n",
       "      <td>0.000000</td>\n",
       "    </tr>\n",
       "    <tr>\n",
       "      <td>50%</td>\n",
       "      <td>0.000000</td>\n",
       "      <td>0.000000</td>\n",
       "    </tr>\n",
       "    <tr>\n",
       "      <td>75%</td>\n",
       "      <td>0.000000</td>\n",
       "      <td>0.000000</td>\n",
       "    </tr>\n",
       "    <tr>\n",
       "      <td>max</td>\n",
       "      <td>15141.000000</td>\n",
       "      <td>254.000000</td>\n",
       "    </tr>\n",
       "  </tbody>\n",
       "</table>\n",
       "</div>"
      ],
      "text/plain": [
       "       NewConfCases    NewDeaths\n",
       "count   5001.000000  5001.000000\n",
       "mean      28.643671     1.081184\n",
       "std      295.890373    10.413962\n",
       "min       -9.000000     0.000000\n",
       "25%        0.000000     0.000000\n",
       "50%        0.000000     0.000000\n",
       "75%        0.000000     0.000000\n",
       "max    15141.000000   254.000000"
      ]
     },
     "execution_count": 7,
     "metadata": {},
     "output_type": "execute_result"
    }
   ],
   "source": [
    "df.describe()"
   ]
  },
  {
   "cell_type": "code",
   "execution_count": 8,
   "metadata": {},
   "outputs": [
    {
     "name": "stdout",
     "output_type": "stream",
     "text": [
      "Total Confirmed Cases: 143247\n"
     ]
    }
   ],
   "source": [
    "confirmed_cases_total = df[['NewConfCases']].sum()[0]\n",
    "print(f'Total Confirmed Cases: {confirmed_cases_total}')"
   ]
  },
  {
   "cell_type": "code",
   "execution_count": 9,
   "metadata": {},
   "outputs": [
    {
     "name": "stdout",
     "output_type": "stream",
     "text": [
      "Total Confirmed Deaths: 5407\n"
     ]
    }
   ],
   "source": [
    "confirmed_deaths_total = df[['NewDeaths']].sum()[0]\n",
    "print(f'Total Confirmed Deaths: {confirmed_deaths_total}')"
   ]
  },
  {
   "cell_type": "code",
   "execution_count": 10,
   "metadata": {},
   "outputs": [],
   "source": [
    "# capitalizing each Country name for later join operation with pop_df\n",
    "df['CountryExp'] = df['CountryExp'].str.title()"
   ]
  },
  {
   "cell_type": "markdown",
   "metadata": {},
   "source": [
    "## country_df; New Cases by country and date"
   ]
  },
  {
   "cell_type": "code",
   "execution_count": 11,
   "metadata": {},
   "outputs": [
    {
     "data": {
      "text/plain": [
       "['Afghanistan',\n",
       " 'Albania',\n",
       " 'Algeria',\n",
       " 'Andorra',\n",
       " 'Argentina',\n",
       " 'Armenia',\n",
       " 'Australia',\n",
       " 'Austria',\n",
       " 'Azerbaijan',\n",
       " 'Bahrain',\n",
       " 'Bangladesh',\n",
       " 'Belarus',\n",
       " 'Belgium',\n",
       " 'Bhutan',\n",
       " 'Bolivia',\n",
       " 'Bosnia And Herzegovina',\n",
       " 'Brazil',\n",
       " 'Brunei Darussalam',\n",
       " 'Bulgaria',\n",
       " 'Burkina Faso',\n",
       " 'Cambodia',\n",
       " 'Cameroon',\n",
       " 'Canada',\n",
       " 'Cases On An International Conveyance Japan',\n",
       " 'Chile',\n",
       " 'China',\n",
       " 'Colombia',\n",
       " 'Costa Rica',\n",
       " 'Cote Divoire',\n",
       " 'Croatia',\n",
       " 'Cuba',\n",
       " 'Cyprus',\n",
       " 'Czech Republic',\n",
       " 'Democratic Republic Of The Congo',\n",
       " 'Denmark',\n",
       " 'Dominican Republic',\n",
       " 'Ecuador',\n",
       " 'Egypt',\n",
       " 'Estonia',\n",
       " 'Ethiopia',\n",
       " 'Finland',\n",
       " 'France',\n",
       " 'Gabon',\n",
       " 'Georgia',\n",
       " 'Germany',\n",
       " 'Ghana',\n",
       " 'Greece',\n",
       " 'Guinea',\n",
       " 'Guyana',\n",
       " 'Holy See',\n",
       " 'Honduras',\n",
       " 'Hungary',\n",
       " 'Iceland',\n",
       " 'India',\n",
       " 'Indonesia',\n",
       " 'Iran',\n",
       " 'Iraq',\n",
       " 'Ireland',\n",
       " 'Israel',\n",
       " 'Italy',\n",
       " 'Jamaica',\n",
       " 'Japan',\n",
       " 'Jordan',\n",
       " 'Kenya',\n",
       " 'Kuwait',\n",
       " 'Latvia',\n",
       " 'Lebanon',\n",
       " 'Liechtenstein',\n",
       " 'Lithuania',\n",
       " 'Luxembourg',\n",
       " 'Malaysia',\n",
       " 'Maldives',\n",
       " 'Malta',\n",
       " 'Mexico',\n",
       " 'Moldova',\n",
       " 'Monaco',\n",
       " 'Mongolia',\n",
       " 'Morocco',\n",
       " 'Nepal',\n",
       " 'Netherlands',\n",
       " 'New Zealand',\n",
       " 'Nigeria',\n",
       " 'North Macedonia',\n",
       " 'Norway',\n",
       " 'Oman',\n",
       " 'Pakistan',\n",
       " 'Palestine',\n",
       " 'Panama',\n",
       " 'Paraguay',\n",
       " 'Peru',\n",
       " 'Philippines',\n",
       " 'Poland',\n",
       " 'Portugal',\n",
       " 'Qatar',\n",
       " 'Romania',\n",
       " 'Russia',\n",
       " 'Saint Vincent And The Grenadines',\n",
       " 'San Marino',\n",
       " 'Saudi Arabia',\n",
       " 'Senegal',\n",
       " 'Serbia',\n",
       " 'Singapore',\n",
       " 'Slovakia',\n",
       " 'Slovenia',\n",
       " 'South Africa',\n",
       " 'South Korea',\n",
       " 'Spain',\n",
       " 'Sri Lanka',\n",
       " 'Sudan',\n",
       " 'Sweden',\n",
       " 'Switzerland',\n",
       " 'Taiwan',\n",
       " 'Thailand',\n",
       " 'Togo',\n",
       " 'Trinidad And Tobago',\n",
       " 'Tunisia',\n",
       " 'Turkey',\n",
       " 'Ukraine',\n",
       " 'United Arab Emirates',\n",
       " 'United Kingdom',\n",
       " 'United States Of America',\n",
       " 'Vietnam']"
      ]
     },
     "execution_count": 11,
     "metadata": {},
     "output_type": "execute_result"
    }
   ],
   "source": [
    "countries_lst = list(df['CountryExp'].unique())\n",
    "countries_lst"
   ]
  },
  {
   "cell_type": "code",
   "execution_count": 12,
   "metadata": {},
   "outputs": [
    {
     "data": {
      "text/html": [
       "<div>\n",
       "<style scoped>\n",
       "    .dataframe tbody tr th:only-of-type {\n",
       "        vertical-align: middle;\n",
       "    }\n",
       "\n",
       "    .dataframe tbody tr th {\n",
       "        vertical-align: top;\n",
       "    }\n",
       "\n",
       "    .dataframe thead th {\n",
       "        text-align: right;\n",
       "    }\n",
       "</style>\n",
       "<table border=\"1\" class=\"dataframe\">\n",
       "  <thead>\n",
       "    <tr style=\"text-align: right;\">\n",
       "      <th></th>\n",
       "      <th></th>\n",
       "      <th>NewConfCases</th>\n",
       "      <th>NewDeaths</th>\n",
       "    </tr>\n",
       "    <tr>\n",
       "      <th>CountryExp</th>\n",
       "      <th>Date</th>\n",
       "      <th></th>\n",
       "      <th></th>\n",
       "    </tr>\n",
       "  </thead>\n",
       "  <tbody>\n",
       "    <tr>\n",
       "      <td rowspan=\"5\" valign=\"top\">Afghanistan</td>\n",
       "      <td>2019-12-31</td>\n",
       "      <td>0</td>\n",
       "      <td>0</td>\n",
       "    </tr>\n",
       "    <tr>\n",
       "      <td>2020-01-01</td>\n",
       "      <td>0</td>\n",
       "      <td>0</td>\n",
       "    </tr>\n",
       "    <tr>\n",
       "      <td>2020-01-02</td>\n",
       "      <td>0</td>\n",
       "      <td>0</td>\n",
       "    </tr>\n",
       "    <tr>\n",
       "      <td>2020-01-03</td>\n",
       "      <td>0</td>\n",
       "      <td>0</td>\n",
       "    </tr>\n",
       "    <tr>\n",
       "      <td>2020-01-04</td>\n",
       "      <td>0</td>\n",
       "      <td>0</td>\n",
       "    </tr>\n",
       "    <tr>\n",
       "      <td>...</td>\n",
       "      <td>...</td>\n",
       "      <td>...</td>\n",
       "      <td>...</td>\n",
       "    </tr>\n",
       "    <tr>\n",
       "      <td rowspan=\"5\" valign=\"top\">Vietnam</td>\n",
       "      <td>2020-03-10</td>\n",
       "      <td>1</td>\n",
       "      <td>0</td>\n",
       "    </tr>\n",
       "    <tr>\n",
       "      <td>2020-03-11</td>\n",
       "      <td>4</td>\n",
       "      <td>0</td>\n",
       "    </tr>\n",
       "    <tr>\n",
       "      <td>2020-03-12</td>\n",
       "      <td>4</td>\n",
       "      <td>0</td>\n",
       "    </tr>\n",
       "    <tr>\n",
       "      <td>2020-03-13</td>\n",
       "      <td>5</td>\n",
       "      <td>0</td>\n",
       "    </tr>\n",
       "    <tr>\n",
       "      <td>2020-03-14</td>\n",
       "      <td>5</td>\n",
       "      <td>0</td>\n",
       "    </tr>\n",
       "  </tbody>\n",
       "</table>\n",
       "<p>5001 rows × 2 columns</p>\n",
       "</div>"
      ],
      "text/plain": [
       "                        NewConfCases  NewDeaths\n",
       "CountryExp  Date                               \n",
       "Afghanistan 2019-12-31             0          0\n",
       "            2020-01-01             0          0\n",
       "            2020-01-02             0          0\n",
       "            2020-01-03             0          0\n",
       "            2020-01-04             0          0\n",
       "...                              ...        ...\n",
       "Vietnam     2020-03-10             1          0\n",
       "            2020-03-11             4          0\n",
       "            2020-03-12             4          0\n",
       "            2020-03-13             5          0\n",
       "            2020-03-14             5          0\n",
       "\n",
       "[5001 rows x 2 columns]"
      ]
     },
     "execution_count": 12,
     "metadata": {},
     "output_type": "execute_result"
    }
   ],
   "source": [
    "# in case of duplicated entries I perform an aggregation\n",
    "country_df = df.groupby(['CountryExp', 'Date']).sum()\n",
    "country_df"
   ]
  },
  {
   "cell_type": "markdown",
   "metadata": {},
   "source": [
    "## Growth Factor Calculation, growth_factor_df"
   ]
  },
  {
   "cell_type": "code",
   "execution_count": 13,
   "metadata": {},
   "outputs": [],
   "source": [
    "def growth_factor(a, b):\n",
    "    '''\n",
    "    return growth factor, before computing ratio, it checks that denominator is larger than zero\n",
    "    if denominator is zero a NaN is returned\n",
    "    \n",
    "    param: Value Today, Value Yesterday\n",
    "    return: growth ratio\n",
    "    '''\n",
    "    if b > 0:\n",
    "        return a/b\n",
    "    else:\n",
    "        return np.nan"
   ]
  },
  {
   "cell_type": "code",
   "execution_count": 14,
   "metadata": {},
   "outputs": [],
   "source": [
    "# I shift by 1 in order to align today data with yesterday data\n",
    "# I need to unstack the country index before shifting in order to avoid data leakage from one country to the other\n",
    "\n",
    "shift1_df = country_df.unstack(level=0).shift(1).stack(level=1).swaplevel(axis=0).sort_index()"
   ]
  },
  {
   "cell_type": "code",
   "execution_count": 15,
   "metadata": {},
   "outputs": [
    {
     "data": {
      "text/plain": [
       "CountryExp   Date      \n",
       "Afghanistan  2019-12-31   NaN\n",
       "             2020-01-01   NaN\n",
       "             2020-01-02   NaN\n",
       "             2020-01-03   NaN\n",
       "             2020-01-04   NaN\n",
       "                           ..\n",
       "Vietnam      2020-03-10   NaN\n",
       "             2020-03-11   NaN\n",
       "             2020-03-12   NaN\n",
       "             2020-03-13   NaN\n",
       "             2020-03-14   NaN\n",
       "Name: NewDeaths, Length: 5168, dtype: float64"
      ]
     },
     "execution_count": 15,
     "metadata": {},
     "output_type": "execute_result"
    }
   ],
   "source": [
    "# growth factor calculation\n",
    "grow_rate_conf = pd.concat([country_df, shift1_df], axis=1).apply(lambda X: growth_factor(X[0],X[2]), axis=1)\n",
    "grow_rate_death = pd.concat([country_df, shift1_df], axis=1).apply(lambda X: growth_factor(X[1],X[3]), axis=1)\n",
    "\n",
    "grow_rate_conf.rename('NewConfCases', inplace=True)\n",
    "grow_rate_death.rename('NewDeaths', inplace=True)"
   ]
  },
  {
   "cell_type": "code",
   "execution_count": 16,
   "metadata": {},
   "outputs": [
    {
     "data": {
      "text/html": [
       "<div>\n",
       "<style scoped>\n",
       "    .dataframe tbody tr th:only-of-type {\n",
       "        vertical-align: middle;\n",
       "    }\n",
       "\n",
       "    .dataframe tbody tr th {\n",
       "        vertical-align: top;\n",
       "    }\n",
       "\n",
       "    .dataframe thead th {\n",
       "        text-align: right;\n",
       "    }\n",
       "</style>\n",
       "<table border=\"1\" class=\"dataframe\">\n",
       "  <thead>\n",
       "    <tr style=\"text-align: right;\">\n",
       "      <th></th>\n",
       "      <th></th>\n",
       "      <th>NewConfCases</th>\n",
       "      <th>NewDeaths</th>\n",
       "    </tr>\n",
       "    <tr>\n",
       "      <th>CountryExp</th>\n",
       "      <th>Date</th>\n",
       "      <th></th>\n",
       "      <th></th>\n",
       "    </tr>\n",
       "  </thead>\n",
       "  <tbody>\n",
       "    <tr>\n",
       "      <td rowspan=\"5\" valign=\"top\">Afghanistan</td>\n",
       "      <td>2019-12-31</td>\n",
       "      <td>NaN</td>\n",
       "      <td>NaN</td>\n",
       "    </tr>\n",
       "    <tr>\n",
       "      <td>2020-01-01</td>\n",
       "      <td>NaN</td>\n",
       "      <td>NaN</td>\n",
       "    </tr>\n",
       "    <tr>\n",
       "      <td>2020-01-02</td>\n",
       "      <td>NaN</td>\n",
       "      <td>NaN</td>\n",
       "    </tr>\n",
       "    <tr>\n",
       "      <td>2020-01-03</td>\n",
       "      <td>NaN</td>\n",
       "      <td>NaN</td>\n",
       "    </tr>\n",
       "    <tr>\n",
       "      <td>2020-01-04</td>\n",
       "      <td>NaN</td>\n",
       "      <td>NaN</td>\n",
       "    </tr>\n",
       "    <tr>\n",
       "      <td>...</td>\n",
       "      <td>...</td>\n",
       "      <td>...</td>\n",
       "      <td>...</td>\n",
       "    </tr>\n",
       "    <tr>\n",
       "      <td rowspan=\"5\" valign=\"top\">Vietnam</td>\n",
       "      <td>2020-03-10</td>\n",
       "      <td>0.111111</td>\n",
       "      <td>NaN</td>\n",
       "    </tr>\n",
       "    <tr>\n",
       "      <td>2020-03-11</td>\n",
       "      <td>4.000000</td>\n",
       "      <td>NaN</td>\n",
       "    </tr>\n",
       "    <tr>\n",
       "      <td>2020-03-12</td>\n",
       "      <td>1.000000</td>\n",
       "      <td>NaN</td>\n",
       "    </tr>\n",
       "    <tr>\n",
       "      <td>2020-03-13</td>\n",
       "      <td>1.250000</td>\n",
       "      <td>NaN</td>\n",
       "    </tr>\n",
       "    <tr>\n",
       "      <td>2020-03-14</td>\n",
       "      <td>1.000000</td>\n",
       "      <td>NaN</td>\n",
       "    </tr>\n",
       "  </tbody>\n",
       "</table>\n",
       "<p>5168 rows × 2 columns</p>\n",
       "</div>"
      ],
      "text/plain": [
       "                        NewConfCases  NewDeaths\n",
       "CountryExp  Date                               \n",
       "Afghanistan 2019-12-31           NaN        NaN\n",
       "            2020-01-01           NaN        NaN\n",
       "            2020-01-02           NaN        NaN\n",
       "            2020-01-03           NaN        NaN\n",
       "            2020-01-04           NaN        NaN\n",
       "...                              ...        ...\n",
       "Vietnam     2020-03-10      0.111111        NaN\n",
       "            2020-03-11      4.000000        NaN\n",
       "            2020-03-12      1.000000        NaN\n",
       "            2020-03-13      1.250000        NaN\n",
       "            2020-03-14      1.000000        NaN\n",
       "\n",
       "[5168 rows x 2 columns]"
      ]
     },
     "execution_count": 16,
     "metadata": {},
     "output_type": "execute_result"
    }
   ],
   "source": [
    "# concatenating Series in a DataFrame\n",
    "growth_factor_df = pd.concat([grow_rate_conf, grow_rate_death], axis=1)\n",
    "growth_factor_df"
   ]
  },
  {
   "cell_type": "markdown",
   "metadata": {},
   "source": [
    "## Cumulative Sum, cumsum_df"
   ]
  },
  {
   "cell_type": "code",
   "execution_count": 18,
   "metadata": {},
   "outputs": [
    {
     "data": {
      "text/html": [
       "<div>\n",
       "<style scoped>\n",
       "    .dataframe tbody tr th:only-of-type {\n",
       "        vertical-align: middle;\n",
       "    }\n",
       "\n",
       "    .dataframe tbody tr th {\n",
       "        vertical-align: top;\n",
       "    }\n",
       "\n",
       "    .dataframe thead th {\n",
       "        text-align: right;\n",
       "    }\n",
       "</style>\n",
       "<table border=\"1\" class=\"dataframe\">\n",
       "  <thead>\n",
       "    <tr style=\"text-align: right;\">\n",
       "      <th></th>\n",
       "      <th>CountryExp</th>\n",
       "      <th>NewConfCases</th>\n",
       "      <th>NewDeaths</th>\n",
       "      <th>GeoId</th>\n",
       "      <th>Gaul1Nuts1</th>\n",
       "      <th>EU</th>\n",
       "    </tr>\n",
       "    <tr>\n",
       "      <th>Date</th>\n",
       "      <th></th>\n",
       "      <th></th>\n",
       "      <th></th>\n",
       "      <th></th>\n",
       "      <th></th>\n",
       "      <th></th>\n",
       "    </tr>\n",
       "  </thead>\n",
       "  <tbody>\n",
       "    <tr>\n",
       "      <td>2020-03-11</td>\n",
       "      <td>Afghanistan</td>\n",
       "      <td>3</td>\n",
       "      <td>0</td>\n",
       "      <td>AF</td>\n",
       "      <td>NaN</td>\n",
       "      <td>Non-EU/EEA</td>\n",
       "    </tr>\n",
       "    <tr>\n",
       "      <td>2020-03-08</td>\n",
       "      <td>Afghanistan</td>\n",
       "      <td>3</td>\n",
       "      <td>0</td>\n",
       "      <td>AF</td>\n",
       "      <td>NaN</td>\n",
       "      <td>Non-EU/EEA</td>\n",
       "    </tr>\n",
       "    <tr>\n",
       "      <td>2020-03-02</td>\n",
       "      <td>Afghanistan</td>\n",
       "      <td>0</td>\n",
       "      <td>0</td>\n",
       "      <td>AF</td>\n",
       "      <td>NaN</td>\n",
       "      <td>Non-EU/EEA</td>\n",
       "    </tr>\n",
       "    <tr>\n",
       "      <td>2020-03-01</td>\n",
       "      <td>Afghanistan</td>\n",
       "      <td>0</td>\n",
       "      <td>0</td>\n",
       "      <td>AF</td>\n",
       "      <td>NaN</td>\n",
       "      <td>Non-EU/EEA</td>\n",
       "    </tr>\n",
       "    <tr>\n",
       "      <td>2020-02-29</td>\n",
       "      <td>Afghanistan</td>\n",
       "      <td>0</td>\n",
       "      <td>0</td>\n",
       "      <td>AF</td>\n",
       "      <td>NaN</td>\n",
       "      <td>Non-EU/EEA</td>\n",
       "    </tr>\n",
       "    <tr>\n",
       "      <td>...</td>\n",
       "      <td>...</td>\n",
       "      <td>...</td>\n",
       "      <td>...</td>\n",
       "      <td>...</td>\n",
       "      <td>...</td>\n",
       "      <td>...</td>\n",
       "    </tr>\n",
       "    <tr>\n",
       "      <td>2020-01-04</td>\n",
       "      <td>Vietnam</td>\n",
       "      <td>0</td>\n",
       "      <td>0</td>\n",
       "      <td>VN</td>\n",
       "      <td>NaN</td>\n",
       "      <td>Non-EU/EEA</td>\n",
       "    </tr>\n",
       "    <tr>\n",
       "      <td>2020-01-03</td>\n",
       "      <td>Vietnam</td>\n",
       "      <td>0</td>\n",
       "      <td>0</td>\n",
       "      <td>VN</td>\n",
       "      <td>NaN</td>\n",
       "      <td>Non-EU/EEA</td>\n",
       "    </tr>\n",
       "    <tr>\n",
       "      <td>2020-01-02</td>\n",
       "      <td>Vietnam</td>\n",
       "      <td>0</td>\n",
       "      <td>0</td>\n",
       "      <td>VN</td>\n",
       "      <td>NaN</td>\n",
       "      <td>Non-EU/EEA</td>\n",
       "    </tr>\n",
       "    <tr>\n",
       "      <td>2020-01-01</td>\n",
       "      <td>Vietnam</td>\n",
       "      <td>0</td>\n",
       "      <td>0</td>\n",
       "      <td>VN</td>\n",
       "      <td>NaN</td>\n",
       "      <td>Non-EU/EEA</td>\n",
       "    </tr>\n",
       "    <tr>\n",
       "      <td>2019-12-31</td>\n",
       "      <td>Vietnam</td>\n",
       "      <td>0</td>\n",
       "      <td>0</td>\n",
       "      <td>VN</td>\n",
       "      <td>NaN</td>\n",
       "      <td>Non-EU/EEA</td>\n",
       "    </tr>\n",
       "  </tbody>\n",
       "</table>\n",
       "<p>5001 rows × 6 columns</p>\n",
       "</div>"
      ],
      "text/plain": [
       "             CountryExp  NewConfCases  NewDeaths GeoId Gaul1Nuts1          EU\n",
       "Date                                                                         \n",
       "2020-03-11  Afghanistan             3          0    AF        NaN  Non-EU/EEA\n",
       "2020-03-08  Afghanistan             3          0    AF        NaN  Non-EU/EEA\n",
       "2020-03-02  Afghanistan             0          0    AF        NaN  Non-EU/EEA\n",
       "2020-03-01  Afghanistan             0          0    AF        NaN  Non-EU/EEA\n",
       "2020-02-29  Afghanistan             0          0    AF        NaN  Non-EU/EEA\n",
       "...                 ...           ...        ...   ...        ...         ...\n",
       "2020-01-04      Vietnam             0          0    VN        NaN  Non-EU/EEA\n",
       "2020-01-03      Vietnam             0          0    VN        NaN  Non-EU/EEA\n",
       "2020-01-02      Vietnam             0          0    VN        NaN  Non-EU/EEA\n",
       "2020-01-01      Vietnam             0          0    VN        NaN  Non-EU/EEA\n",
       "2019-12-31      Vietnam             0          0    VN        NaN  Non-EU/EEA\n",
       "\n",
       "[5001 rows x 6 columns]"
      ]
     },
     "execution_count": 18,
     "metadata": {},
     "output_type": "execute_result"
    }
   ],
   "source": [
    "df"
   ]
  },
  {
   "cell_type": "code",
   "execution_count": null,
   "metadata": {},
   "outputs": [],
   "source": [
    "#in order to perform cumsum within the same country I need to unstack the country index\n",
    "cumsum_df = country_df.unstack(level=0).cumsum().stack(level=1).swaplevel(axis=0).sort_index()\n",
    "cumsum_df"
   ]
  },
  {
   "cell_type": "markdown",
   "metadata": {},
   "source": [
    "### Concatenating cumulative sum, daily differences and worth factor in a Master DataFrame, df"
   ]
  },
  {
   "cell_type": "code",
   "execution_count": null,
   "metadata": {},
   "outputs": [],
   "source": [
    "df = pd.concat({'cumsum' : cumsum_df, \n",
    "                'difference' : country_df,\n",
    "                'growth_factor' : growth_factor_df},axis=1)"
   ]
  },
  {
   "cell_type": "code",
   "execution_count": null,
   "metadata": {},
   "outputs": [],
   "source": [
    "# a DataFrame for Switzerland\n",
    "ch_df = df.loc['Switzerland', idx[:,'NewConfCases']]"
   ]
  },
  {
   "cell_type": "code",
   "execution_count": null,
   "metadata": {},
   "outputs": [],
   "source": [
    "def plot_country(df=df, country='Switzerland'):\n",
    "    \n",
    "    '''\n",
    "    For Confirmed and Deaths cases plot cumsum, difference and growth factor\n",
    "    '''\n",
    "    \n",
    "    fig, ax = plt.subplots(3,2, figsize=(10,8))\n",
    "    c_df = df.loc[country, idx[:,'NewConfCases']]\n",
    "    \n",
    "    date_first_case = (c_df.sum(axis=1)!=0).idxmax()\n",
    "    date_first_case_str = date_first_case.strftime(\"%Y-%m-%d\")\n",
    "    print(date_first_case_str)\n",
    "    \n",
    "    for ith, clm in enumerate(c_df.columns):\n",
    "        c_df[date_first_case:][[clm]].plot(ax=ax[ith,0])\n",
    "\n",
    "    c_df = df.loc[country, idx[:,'NewDeaths']]\n",
    "    for ith, clm in enumerate(c_df.columns):\n",
    "        c_df[date_first_case:][[clm]].plot(ax=ax[ith,1])\n",
    "\n",
    "    plt.tight_layout()  \n"
   ]
  },
  {
   "cell_type": "code",
   "execution_count": null,
   "metadata": {
    "scrolled": false
   },
   "outputs": [],
   "source": [
    "countries = ['Switzerland', 'Italy', 'China', 'Japan', 'South Korea', 'Iran']\n",
    "for country in countries:\n",
    "    first_date = plot_country(country=country)\n",
    "    print(f\"{country}\")\n",
    "    plt.show()"
   ]
  },
  {
   "cell_type": "code",
   "execution_count": null,
   "metadata": {},
   "outputs": [],
   "source": [
    "### Cumsum plots"
   ]
  },
  {
   "cell_type": "code",
   "execution_count": null,
   "metadata": {},
   "outputs": [],
   "source": [
    "fig, ax = plt.subplots(1,2, figsize=(12,6))\n",
    "fig.suptitle(f'World Wide Situation (last update: {last_av_date_str})', fontsize=14)\n",
    "cumsum_df.unstack(level=0)[['NewConfCases']].sum(axis=1).plot(ax=ax[0], title=f'Cumulative Confirmed Cases: {confirmed_cases_total:,}', grid=1)\n",
    "cumsum_df.unstack(level=0)[['NewDeaths']].sum(axis=1).plot(ax=ax[1], color='red', title=f'Cumulative Deaths: {confirmed_deaths_total:,}', grid=1);\n",
    "fig.tight_layout(rect=[0, 0.03, 1, 0.92])\n",
    "plt.savefig('./_output/pics/total_cumsum.png', dpi=120, bbox='tight')"
   ]
  },
  {
   "cell_type": "code",
   "execution_count": null,
   "metadata": {},
   "outputs": [],
   "source": [
    "fig, ax = plt.subplots(1,2, figsize=(12,6))\n",
    "fig.suptitle(f'World Wide Situation, status: {last_av_date_str}', fontsize=14)\n",
    "cumsum_df.unstack(level=0)[['NewConfCases']].sum(axis=1).plot(ax=ax[0], title='Cumulative Confirmed Cases')\n",
    "cumsum_df.unstack(level=0)[['NewDeaths']].sum(axis=1).plot(ax=ax[1], color='red', title='Cumulative Deaths');\n",
    "fig.tight_layout(rect=[0, 0.03, 1, 0.90])"
   ]
  },
  {
   "cell_type": "markdown",
   "metadata": {},
   "source": [
    "### Bar Plot"
   ]
  },
  {
   "cell_type": "code",
   "execution_count": null,
   "metadata": {},
   "outputs": [],
   "source": [
    "last_av_date = df.index.levels[1][-1]\n",
    "last_date_df = df.swaplevel(axis=0).sort_index().loc[last_av_date]\n",
    "last_av_date_str = last_av_date.strftime('%Y-%m-%d') #for later use as a string for plot titles\n",
    "last_date_df['growth_factor', 'NewConfCases'].sort_values(ascending=False).head(25).plot(kind='barh', figsize=(10,8), logx=True).invert_yaxis()"
   ]
  },
  {
   "cell_type": "markdown",
   "metadata": {},
   "source": [
    "### High Growth Factor Countries for last available date"
   ]
  },
  {
   "cell_type": "code",
   "execution_count": null,
   "metadata": {
    "scrolled": false
   },
   "outputs": [],
   "source": [
    "hi_growth = list(last_date_df['growth_factor', 'NewConfCases'].sort_values(ascending=False).head(5).index)\n",
    "countries = hi_growth\n",
    "for country in countries:\n",
    "    first_date = plot_country(country=country)\n",
    "    print(f\"{country}\")\n",
    "    plt.show()"
   ]
  },
  {
   "cell_type": "markdown",
   "metadata": {},
   "source": [
    "## start point, day with first confirmed case"
   ]
  },
  {
   "cell_type": "code",
   "execution_count": null,
   "metadata": {},
   "outputs": [],
   "source": [
    "def plot_country_dayone(df=df, thresh=1, countries=['Switzerland', 'Italy', 'France', 'Germany', 'United Kingdom', 'South Korea', 'China', 'Poland', 'Russia', 'United States Of America'], legend=True, lw=4, clmn_name='NewConfCases'):\n",
    "    '''\n",
    "    plot cumulative confirmed cases starting from first date compliant with the min case threshold\n",
    "    process non-weighted and weighted cases\n",
    "    \n",
    "    Params:\n",
    "    -------\n",
    "    df: pandas DataFrame, COVID dataframe\n",
    "    thresh: int, min number of cumulative cases for plotting; if not met, the country is skipped\n",
    "    countries: list, list of countries to plot\n",
    "    \n",
    "    Return: logy scaled cumulative sum of confirmed cases\n",
    "    -------\n",
    "    '''\n",
    "    \n",
    "    fig, ax = plt.subplots(figsize=(8,7))\n",
    "    \n",
    "    #defining the title now, before modifying thresh\n",
    "    print_thresh = thresh\n",
    "    count_plotted = 0 #variable used to count the number of plotted curves in order to set legend clm number correctly\n",
    "    \n",
    "    if thresh >= 1:\n",
    "        # subtract 1, only if thresh is referred to non-weighted values\n",
    "        plt.title(f'Cumulative Confirmed Cases, from {print_thresh} case(s)')\n",
    "        thresh = thresh-1\n",
    "    else:\n",
    "        plt.title(f'Per Capita Cumulative Confirmed Cases, from 1 every {int(np.ceil(print_thresh**(-1))):,} case(s)')\n",
    "\n",
    "    \n",
    "    for country in countries:\n",
    "    \n",
    "        c_df = df.loc[country, idx[:,clmn_name]]\n",
    "        \n",
    "        #checking if the specific country has reached thresh\n",
    "        if (c_df['cumsum'].sum(axis=1)>thresh).sum()>0:\n",
    "            date_first_case = (c_df['cumsum'].sum(axis=1)>thresh).idxmax() #identifying first date with 1 case\n",
    "            \n",
    "            days = c_df.loc[date_first_case:,'cumsum'].size\n",
    "\n",
    "            c_cumsum_df = c_df.loc[date_first_case:,'cumsum']\n",
    "            c_cumsum_df['day'] = np.arange(1,days+1,1)\n",
    "\n",
    "            c_cumsum_df.reset_index().set_index(['day'])[[clmn_name]].rename({clmn_name:country},axis=1)\\\n",
    "                       .plot(ax=ax, logy=True, lw=lw, alpha=.8)\n",
    "            \n",
    "            count_plotted+=1\n",
    "            \n",
    "        else:\n",
    "            print(f\"{country} hasn't reached specified threshold of {print_thresh} confirmed case(s)'\")\n",
    "\n",
    "    plt.grid(True, which='minor')\n",
    "    plt.xlabel('Days (after min threshold)')\n",
    "    plt.ylabel('Cumulative Confirmed Cases')\n",
    "\n",
    "    if len(countries) > 8:\n",
    "        plt.legend(loc='upper left', bbox_to_anchor=(1.01, 1.), ncol=int(np.ceil(count_plotted/25)))\n",
    "\n",
    "    if legend == False:\n",
    "        ax.legend().set_visible(False)\n",
    "\n"
   ]
  },
  {
   "cell_type": "code",
   "execution_count": null,
   "metadata": {},
   "outputs": [],
   "source": [
    "plot_country_dayone(thresh=1)"
   ]
  },
  {
   "cell_type": "code",
   "execution_count": null,
   "metadata": {},
   "outputs": [],
   "source": [
    "plot_country_dayone(thresh=100)\n",
    "plt.savefig('./_output/pics/cumsum_cases.png', dpi=125, bbox_inches = 'tight')"
   ]
  },
  {
   "cell_type": "code",
   "execution_count": null,
   "metadata": {
    "scrolled": false
   },
   "outputs": [],
   "source": [
    "plot_country_dayone(thresh=100, countries=countries_lst, legend=True, lw=2)"
   ]
  },
  {
   "cell_type": "markdown",
   "metadata": {},
   "source": [
    "### DataFrame Export"
   ]
  },
  {
   "cell_type": "code",
   "execution_count": null,
   "metadata": {},
   "outputs": [],
   "source": [
    "df.to_pickle('./_output/pckl/covid_df.pckl')"
   ]
  },
  {
   "cell_type": "markdown",
   "metadata": {},
   "source": [
    "# Cases Per Capita"
   ]
  },
  {
   "cell_type": "code",
   "execution_count": null,
   "metadata": {},
   "outputs": [],
   "source": [
    "pop_df = pd.read_csv('./_input/02_world_population/API_SP.POP.TOTL_DS2_en_csv_v2_821007.csv',header=2)\n",
    "# slicing out only the clmns I need\n",
    "clms = list(pop_df.columns[:])\n",
    "clmns = clms[:4]\n",
    "clmns.append(clms[-3]) #appending last clmn, 2018, to previous items list\n",
    "#clmns\n",
    "pop_df = pop_df[clmns].set_index('Country Name')\n",
    "pop_df.rename({pop_df.columns[-1] : 'pop_2018'}, axis=1, inplace=True)\n",
    "pop_df.head()"
   ]
  },
  {
   "cell_type": "code",
   "execution_count": null,
   "metadata": {},
   "outputs": [],
   "source": [
    "# renaming some countries to match df naming\n",
    "## \n",
    "country_dict = {'United States' : 'United States Of America', \n",
    " \"Cote d'Ivoire\" : 'Cote Divoire',\n",
    " 'Czech republic' : 'Czech Republic', \n",
    " 'Congo, Dem. Rep.' : 'Democratic Republic Of The Congo', \n",
    " 'Egypt, Arab Rep.' : 'Egypt',\n",
    " 'Iran, Islamic Rep.' : 'Iran',\n",
    " 'Russian Federation' : 'Russia',\n",
    " 'Slovak Republic' : 'Slovakia',\n",
    " 'Korea, Rep.' : 'South Korea',\n",
    " 'Bosnia and Herzegovina' : 'Bosnia And Herzegovina',\n",
    " 'St. Vincent and the Grenadines' : 'Saint Vincent And The Grenadines', \n",
    " 'Trinidad and Tobago': 'Trinidad And Tobago'} \n",
    "\n",
    "# found in pop_df but NA in df \n",
    "#'Palestine' : '',\n",
    "#'Taiwan' : '',"
   ]
  },
  {
   "cell_type": "code",
   "execution_count": null,
   "metadata": {},
   "outputs": [],
   "source": [
    "pop_df.reset_index(inplace=True)\n",
    "pop_df['Country Name'] = pop_df['Country Name'].replace(country_dict)\n",
    "pop_df.set_index('Country Name', inplace=True)\n",
    "pop_df.head()"
   ]
  },
  {
   "cell_type": "raw",
   "metadata": {},
   "source": [
    "#checking countries names consistency with df index names\n",
    "df1 = pd.DataFrame(countries_lst, columns=['Country Name']).set_index('Country Name').join(pop_df)\n",
    "df1[df1['Country Code'].isnull()==True]"
   ]
  },
  {
   "cell_type": "markdown",
   "metadata": {},
   "source": [
    "> countries missing in df"
   ]
  },
  {
   "cell_type": "code",
   "execution_count": null,
   "metadata": {},
   "outputs": [],
   "source": [
    "df.index.levels[0].name = 'Country Name'"
   ]
  },
  {
   "cell_type": "code",
   "execution_count": null,
   "metadata": {},
   "outputs": [],
   "source": [
    "df"
   ]
  },
  {
   "cell_type": "code",
   "execution_count": null,
   "metadata": {},
   "outputs": [],
   "source": [
    "#joining covid data with country population\n",
    "\n",
    "j_df = df.stack(level=0).join(pop_df, how='inner') #joining on inner, non matching indeces will be discarded \n",
    "j_df = j_df.loc[idx[:,:,'cumsum'],:] #weighting against population makes sense only for cumsum"
   ]
  },
  {
   "cell_type": "code",
   "execution_count": null,
   "metadata": {},
   "outputs": [],
   "source": [
    "# weighting data by population\n",
    "j_df[['w_NewConfCases', 'w_NewDeaths']] = j_df[['NewConfCases', 'NewDeaths']].divide(j_df.loc[idx[:,:,'cumsum'],'pop_2018'], axis=0)"
   ]
  },
  {
   "cell_type": "code",
   "execution_count": null,
   "metadata": {},
   "outputs": [],
   "source": [
    "w_df = j_df[j_df.columns[j_df.columns.str.contains('w_')]].unstack(level=2).swaplevel(axis=1).copy()\n",
    "w_df.rename(columns={'cumsum' : 'w_cum'})"
   ]
  },
  {
   "cell_type": "code",
   "execution_count": null,
   "metadata": {},
   "outputs": [],
   "source": [
    "plot_country_dayone(df=w_df, clmn_name='w_NewConfCases', thresh=1e-6)\n",
    "plt.savefig('./_output/pics/cumsum_cases_capita.png', dpi=120, bbox_inches = 'tight')"
   ]
  },
  {
   "cell_type": "code",
   "execution_count": null,
   "metadata": {},
   "outputs": [],
   "source": []
  },
  {
   "cell_type": "markdown",
   "metadata": {},
   "source": [
    "## Countries with Highest Confirmed Cases per capita (cumulative)"
   ]
  },
  {
   "cell_type": "code",
   "execution_count": null,
   "metadata": {},
   "outputs": [],
   "source": [
    "c_num = 20\n",
    "hi_cumsum_capita = w_df.loc[idx[:,last_av_date],idx['cumsum','w_NewConfCases']].sort_values(ascending=False).head(c_num)\n",
    "hi_cumsum_capita_lst = hi_cumsum_capita.reset_index()['Country Name'].to_list()\n",
    "print(hi_cumsum_capita_lst)\n",
    "\n",
    "plot_country_dayone(df=w_df, clmn_name='w_NewConfCases',  countries=hi_cumsum_capita_lst, thresh=1.e-5, lw=3)\n",
    "print('Countries with Highest Pro Capita Confirmed Cases')\n",
    "plt.savefig('./_output/pics/cumsum_cases_capita_high.png', dpi=120, bbox_inches = 'tight')"
   ]
  },
  {
   "cell_type": "markdown",
   "metadata": {},
   "source": [
    "# Doubling Time"
   ]
  },
  {
   "cell_type": "code",
   "execution_count": null,
   "metadata": {},
   "outputs": [],
   "source": []
  },
  {
   "cell_type": "markdown",
   "metadata": {},
   "source": [
    "# DataFrames Export"
   ]
  },
  {
   "cell_type": "code",
   "execution_count": null,
   "metadata": {},
   "outputs": [],
   "source": [
    "w_df.to_pickle('./_output/pckl/covid_per_capita_df.pckl')"
   ]
  },
  {
   "cell_type": "code",
   "execution_count": null,
   "metadata": {},
   "outputs": [],
   "source": []
  }
 ],
 "metadata": {
  "kernelspec": {
   "display_name": "Python 3.7.4 64-bit ('base': conda)",
   "language": "python",
   "name": "python37464bitbaseconda72edc2ce625843cc8f85a0c2e8c1044c"
  },
  "language_info": {
   "codemirror_mode": {
    "name": "ipython",
    "version": 3
   },
   "file_extension": ".py",
   "mimetype": "text/x-python",
   "name": "python",
   "nbconvert_exporter": "python",
   "pygments_lexer": "ipython3",
   "version": "3.7.4"
  }
 },
 "nbformat": 4,
 "nbformat_minor": 2
}
